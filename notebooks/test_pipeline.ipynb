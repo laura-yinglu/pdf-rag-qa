{
 "cells": [
  {
   "cell_type": "code",
   "execution_count": 1,
   "id": "9c676648",
   "metadata": {},
   "outputs": [],
   "source": [
    "import sys\n",
    "import os\n",
    "\n",
    "# Set project root as module path\n",
    "sys.path.append(os.path.abspath(\"..\"))"
   ]
  },
  {
   "cell_type": "code",
   "execution_count": 2,
   "id": "c51dcc1d",
   "metadata": {},
   "outputs": [
    {
     "data": {
      "text/plain": [
       "True"
      ]
     },
     "execution_count": 2,
     "metadata": {},
     "output_type": "execute_result"
    }
   ],
   "source": [
    "# load api keys from .env file \n",
    "from dotenv import load_dotenv\n",
    "load_dotenv()"
   ]
  },
  {
   "cell_type": "code",
   "execution_count": 3,
   "id": "ca6afcb2",
   "metadata": {},
   "outputs": [
    {
     "name": "stderr",
     "output_type": "stream",
     "text": [
      "/Users/yinglu/Desktop/projects/.venv/lib/python3.9/site-packages/urllib3/__init__.py:35: NotOpenSSLWarning: urllib3 v2 only supports OpenSSL 1.1.1+, currently the 'ssl' module is compiled with 'LibreSSL 2.8.3'. See: https://github.com/urllib3/urllib3/issues/3020\n",
      "  warnings.warn(\n",
      "/Users/yinglu/Desktop/projects/.venv/lib/python3.9/site-packages/tqdm/auto.py:21: TqdmWarning: IProgress not found. Please update jupyter and ipywidgets. See https://ipywidgets.readthedocs.io/en/stable/user_install.html\n",
      "  from .autonotebook import tqdm as notebook_tqdm\n"
     ]
    }
   ],
   "source": [
    "# Setup: Import all modules\n",
    "from src.chunking import load_and_chunk\n",
    "\n",
    "from src.embedding import get_embedding_model\n",
    "from src.vector_store import build_vectorstore, save_vectorstore, load_vectorstore\n",
    "from src.query_api import build_qa_chain\n"
   ]
  },
  {
   "cell_type": "code",
   "execution_count": 12,
   "id": "2a44ed9c",
   "metadata": {},
   "outputs": [
    {
     "name": "stdout",
     "output_type": "stream",
     "text": [
      "Total chunks: 11\n",
      "page_content='Christopher Kauffman\n",
      "Associate Teaching Professor Ofﬁce: 612-626-9351\n",
      "Department of Computer Science Mobile: 612-396-4971\n",
      "University of Minnesota0571A Email: kauffman@umn.edu\n",
      "200 Union St SE Room4-192 URL: http://cs.umn.edu/~kauffman\n",
      "Minneapolis, MN55455 USA\n",
      "Education\n",
      "Ph.D. Computer Science, University of Minnesota, Twin Cities.2013.\n",
      "Dissertation: Computational Methods for Protein Structure Prediction and Energy Minimization.\n",
      "M.S. Computer Science, University of Minnesota, Twin Cities,2010.' metadata={'producer': 'macOS Version 15.5 (Build 24F74) Quartz PDFContext', 'creator': 'LaTeX with hyperref', 'creationdate': \"D:20250728060413Z00'00'\", 'title': 'Christopher Kauffman: Curriculum Vitae', 'author': 'Christopher Kauffman', 'moddate': \"D:20250728060413Z00'00'\", 'source': '../data/sample.pdf', 'total_pages': 2, 'page': 0, 'page_label': '1'}\n",
      "\n",
      "\n",
      "---\n",
      "\n",
      "\n",
      "page_content='B.S. Computer Science, University of Minnesota, Twin Cities,2004.\n",
      "Minor in Mathematics. Graduated with High Distinction.\n",
      "Teaching Experience\n",
      "Teaching samples available athttp://cs.umn.edu/~kauffman/teaching-samples\n",
      "Associate Teaching ProfessorFall 2021 - Present\n",
      "Department of Computer Science, University of Minnesota, Twin Cities Minnesota.\n",
      "• Full-time Teaching (80%) and Service (20%) faculty positions. Course load of5 sections per' metadata={'producer': 'macOS Version 15.5 (Build 24F74) Quartz PDFContext', 'creator': 'LaTeX with hyperref', 'creationdate': \"D:20250728060413Z00'00'\", 'title': 'Christopher Kauffman: Curriculum Vitae', 'author': 'Christopher Kauffman', 'moddate': \"D:20250728060413Z00'00'\", 'source': '../data/sample.pdf', 'total_pages': 2, 'page': 0, 'page_label': '1'}\n"
     ]
    }
   ],
   "source": [
    "# Step 1: Load and chunk PDF\n",
    "pdf_path = \"../data/sample.pdf\"  # change path if needed\n",
    "chunks = load_and_chunk(pdf_path)\n",
    "print(f\"Total chunks: {len(chunks)}\")\n",
    "print(chunks[0])\n",
    "print(\"\\n\\n---\\n\\n\")\n",
    "print(chunks[1])\n"
   ]
  },
  {
   "cell_type": "code",
   "execution_count": 5,
   "id": "0c60ae5c",
   "metadata": {},
   "outputs": [
    {
     "name": "stderr",
     "output_type": "stream",
     "text": [
      "/Users/yinglu/Desktop/projects/pdf-rag-qa/src/embedding.py:7: LangChainDeprecationWarning: The class `HuggingFaceEmbeddings` was deprecated in LangChain 0.2.2 and will be removed in 1.0. An updated version of the class exists in the :class:`~langchain-huggingface package and should be used instead. To use it run `pip install -U :class:`~langchain-huggingface` and import as `from :class:`~langchain_huggingface import HuggingFaceEmbeddings``.\n",
      "  return HuggingFaceEmbeddings(\n"
     ]
    }
   ],
   "source": [
    "# Step 2: Build embedding model\n",
    "embedding_model = get_embedding_model()"
   ]
  },
  {
   "cell_type": "code",
   "execution_count": 6,
   "id": "b384fe19",
   "metadata": {},
   "outputs": [
    {
     "name": "stderr",
     "output_type": "stream",
     "text": [
      "/Users/yinglu/Desktop/projects/.venv/lib/python3.9/site-packages/torch/nn/modules/module.py:1762: FutureWarning: `encoder_attention_mask` is deprecated and will be removed in version 4.55.0 for `BertSdpaSelfAttention.forward`.\n",
      "  return forward_call(*args, **kwargs)\n"
     ]
    }
   ],
   "source": [
    "# Step 3: Build vector store\n",
    "texts = [doc.page_content for doc in chunks]\n",
    "metadatas = [doc.metadata for doc in chunks]\n",
    "vectorstore = build_vectorstore(texts, metadatas, embedding_model=embedding_model)\n"
   ]
  },
  {
   "cell_type": "code",
   "execution_count": 7,
   "id": "b1f4cfc3",
   "metadata": {},
   "outputs": [],
   "source": [
    "# Step 4: Save vector store locally\n",
    "store_path = \"../faiss_store\"\n",
    "save_vectorstore(vectorstore, path=store_path)"
   ]
  },
  {
   "cell_type": "code",
   "execution_count": 8,
   "id": "8b56ce8b",
   "metadata": {},
   "outputs": [],
   "source": [
    "# Step 5: Load vector store and build QA chain\n",
    "vs = load_vectorstore(path=store_path, embedding_model=embedding_model)\n"
   ]
  },
  {
   "cell_type": "code",
   "execution_count": 16,
   "id": "a853dabc",
   "metadata": {},
   "outputs": [
    {
     "name": "stderr",
     "output_type": "stream",
     "text": [
      "Device set to use mps:0\n",
      "The following generation flags are not valid and may be ignored: ['temperature']. Set `TRANSFORMERS_VERBOSITY=info` for more details.\n",
      "/Users/yinglu/Desktop/projects/.venv/lib/python3.9/site-packages/torch/nn/modules/module.py:1762: FutureWarning: `encoder_attention_mask` is deprecated and will be removed in version 4.55.0 for `BertSdpaSelfAttention.forward`.\n",
      "  return forward_call(*args, **kwargs)\n",
      "Token indices sequence length is longer than the specified maximum sequence length for this model (679 > 512). Running this sequence through the model will result in indexing errors\n",
      "The following generation flags are not valid and may be ignored: ['temperature']. Set `TRANSFORMERS_VERBOSITY=info` for more details.\n"
     ]
    },
    {
     "name": "stdout",
     "output_type": "stream",
     "text": [
      "Answer:\n",
      " kauffman@umn.edu\n",
      "\n",
      "Sources:\n",
      " - {'producer': 'macOS Version 15.5 (Build 24F74) Quartz PDFContext', 'creator': 'LaTeX with hyperref', 'creationdate': \"D:20250728060413Z00'00'\", 'title': 'Christopher Kauffman: Curriculum Vitae', 'author': 'Christopher Kauffman', 'moddate': \"D:20250728060413Z00'00'\", 'source': '../data/sample.pdf', 'total_pages': 2, 'page': 0, 'page_label': '1'}\n",
      " - {'producer': 'macOS Version 15.5 (Build 24F74) Quartz PDFContext', 'creator': 'LaTeX with hyperref', 'creationdate': \"D:20250728060413Z00'00'\", 'title': 'Christopher Kauffman: Curriculum Vitae', 'author': 'Christopher Kauffman', 'moddate': \"D:20250728060413Z00'00'\", 'source': '../data/sample.pdf', 'total_pages': 2, 'page': 1, 'page_label': '2'}\n",
      " - {'producer': 'macOS Version 15.5 (Build 24F74) Quartz PDFContext', 'creator': 'LaTeX with hyperref', 'creationdate': \"D:20250728060413Z00'00'\", 'title': 'Christopher Kauffman: Curriculum Vitae', 'author': 'Christopher Kauffman', 'moddate': \"D:20250728060413Z00'00'\", 'source': '../data/sample.pdf', 'total_pages': 2, 'page': 1, 'page_label': '2'}\n",
      " - {'producer': 'macOS Version 15.5 (Build 24F74) Quartz PDFContext', 'creator': 'LaTeX with hyperref', 'creationdate': \"D:20250728060413Z00'00'\", 'title': 'Christopher Kauffman: Curriculum Vitae', 'author': 'Christopher Kauffman', 'moddate': \"D:20250728060413Z00'00'\", 'source': '../data/sample.pdf', 'total_pages': 2, 'page': 1, 'page_label': '2'}\n",
      " - {'producer': 'macOS Version 15.5 (Build 24F74) Quartz PDFContext', 'creator': 'LaTeX with hyperref', 'creationdate': \"D:20250728060413Z00'00'\", 'title': 'Christopher Kauffman: Curriculum Vitae', 'author': 'Christopher Kauffman', 'moddate': \"D:20250728060413Z00'00'\", 'source': '../data/sample.pdf', 'total_pages': 2, 'page': 0, 'page_label': '1'}\n",
      " - {'producer': 'macOS Version 15.5 (Build 24F74) Quartz PDFContext', 'creator': 'LaTeX with hyperref', 'creationdate': \"D:20250728060413Z00'00'\", 'title': 'Christopher Kauffman: Curriculum Vitae', 'author': 'Christopher Kauffman', 'moddate': \"D:20250728060413Z00'00'\", 'source': '../data/sample.pdf', 'total_pages': 2, 'page': 0, 'page_label': '1'}\n"
     ]
    }
   ],
   "source": [
    "qa_chain = build_qa_chain(vs)\n",
    "\n",
    "# Step 6: Ask a question and get answer\n",
    "query = \"what is the email address of this person?\"\n",
    "#print(qa_chain.prompt.format_prompt(question=query, context=\"...\").to_string())\n",
    "\n",
    "result = qa_chain(query)\n",
    "\n",
    "print(\"Answer:\\n\", result[\"result\"])\n",
    "print(\"\\nSources:\")\n",
    "for doc in result[\"source_documents\"]:\n",
    "    print(\" -\", doc.metadata)"
   ]
  }
 ],
 "metadata": {
  "kernelspec": {
   "display_name": ".venv",
   "language": "python",
   "name": "python3"
  },
  "language_info": {
   "codemirror_mode": {
    "name": "ipython",
    "version": 3
   },
   "file_extension": ".py",
   "mimetype": "text/x-python",
   "name": "python",
   "nbconvert_exporter": "python",
   "pygments_lexer": "ipython3",
   "version": "3.9.6"
  }
 },
 "nbformat": 4,
 "nbformat_minor": 5
}
