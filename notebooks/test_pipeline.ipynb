{
 "cells": [
  {
   "cell_type": "code",
   "execution_count": 1,
   "id": "9c676648",
   "metadata": {},
   "outputs": [],
   "source": [
    "import sys\n",
    "import os\n",
    "\n",
    "# Set project root as module path\n",
    "sys.path.append(os.path.abspath(\"..\"))"
   ]
  },
  {
   "cell_type": "code",
   "execution_count": 2,
   "id": "c51dcc1d",
   "metadata": {},
   "outputs": [
    {
     "data": {
      "text/plain": [
       "True"
      ]
     },
     "execution_count": 2,
     "metadata": {},
     "output_type": "execute_result"
    }
   ],
   "source": [
    "# load api keys from .env file \n",
    "from dotenv import load_dotenv\n",
    "load_dotenv()"
   ]
  },
  {
   "cell_type": "code",
   "execution_count": 3,
   "id": "ca6afcb2",
   "metadata": {},
   "outputs": [
    {
     "name": "stderr",
     "output_type": "stream",
     "text": [
      "/Users/yinglu/Desktop/projects/.venv/lib/python3.9/site-packages/urllib3/__init__.py:35: NotOpenSSLWarning: urllib3 v2 only supports OpenSSL 1.1.1+, currently the 'ssl' module is compiled with 'LibreSSL 2.8.3'. See: https://github.com/urllib3/urllib3/issues/3020\n",
      "  warnings.warn(\n",
      "/Users/yinglu/Desktop/projects/.venv/lib/python3.9/site-packages/tqdm/auto.py:21: TqdmWarning: IProgress not found. Please update jupyter and ipywidgets. See https://ipywidgets.readthedocs.io/en/stable/user_install.html\n",
      "  from .autonotebook import tqdm as notebook_tqdm\n"
     ]
    }
   ],
   "source": [
    "# Setup: Import all modules\n",
    "from src.chunking import load_and_chunk\n",
    "\n",
    "from src.embedding import get_embedding_model\n",
    "from src.vector_store import build_vectorstore, save_vectorstore, load_vectorstore\n",
    "from src.query_api import build_qa_chain\n"
   ]
  },
  {
   "cell_type": "code",
   "execution_count": 4,
   "id": "2a44ed9c",
   "metadata": {},
   "outputs": [
    {
     "name": "stdout",
     "output_type": "stream",
     "text": [
      "Total chunks: 5\n",
      "page_content='Study Plan\n",
      "Ying Lu\n",
      "1. Introduction of my background\n",
      "I ﬁnished my undergraduate degree in both statistics and computer science at the University of\n",
      "Minnesota in May 2021. I decided to continue studying computer science as a master student\n",
      "at the University of Minnesota. Now I’m a second year graduate student at the University of\n",
      "Minnesota.\n",
      "2. Reasons why I chose to study in the UMN\n",
      "University of Minnesota is a prestigious school and has numerous cutting-edge research con-' metadata={'producer': 'pdfTeX-1.40.20', 'creator': 'TeX', 'creationdate': '2023-01-04T22:34:51+08:00', 'moddate': '2023-01-04T22:34:51+08:00', 'trapped': '/False', 'ptex.fullbanner': 'This is pdfTeX, Version 3.14159265-2.6-1.40.20 (TeX Live 2019) kpathsea version 6.3.1', 'source': '../data/study_plan.pdf', 'total_pages': 1, 'page': 0, 'page_label': '1'}\n"
     ]
    }
   ],
   "source": [
    "# Step 1: Load and chunk PDF\n",
    "pdf_path = \"../data/study_plan.pdf\"  # change path if needed\n",
    "chunks = load_and_chunk(pdf_path)\n",
    "print(f\"Total chunks: {len(chunks)}\")\n",
    "print(chunks[0])\n"
   ]
  },
  {
   "cell_type": "code",
   "execution_count": 5,
   "id": "0c60ae5c",
   "metadata": {},
   "outputs": [
    {
     "name": "stderr",
     "output_type": "stream",
     "text": [
      "/Users/yinglu/Desktop/projects/pdf-rag-qa/src/embedding.py:7: LangChainDeprecationWarning: The class `HuggingFaceEmbeddings` was deprecated in LangChain 0.2.2 and will be removed in 1.0. An updated version of the class exists in the :class:`~langchain-huggingface package and should be used instead. To use it run `pip install -U :class:`~langchain-huggingface` and import as `from :class:`~langchain_huggingface import HuggingFaceEmbeddings``.\n",
      "  return HuggingFaceEmbeddings(\n"
     ]
    }
   ],
   "source": [
    "# Step 2: Build embedding model\n",
    "embedding_model = get_embedding_model()"
   ]
  },
  {
   "cell_type": "code",
   "execution_count": 6,
   "id": "b384fe19",
   "metadata": {},
   "outputs": [
    {
     "name": "stderr",
     "output_type": "stream",
     "text": [
      "/Users/yinglu/Desktop/projects/.venv/lib/python3.9/site-packages/torch/nn/modules/module.py:1762: FutureWarning: `encoder_attention_mask` is deprecated and will be removed in version 4.55.0 for `BertSdpaSelfAttention.forward`.\n",
      "  return forward_call(*args, **kwargs)\n"
     ]
    }
   ],
   "source": [
    "# Step 3: Build vector store\n",
    "texts = [doc.page_content for doc in chunks]\n",
    "metadatas = [doc.metadata for doc in chunks]\n",
    "vectorstore = build_vectorstore(texts, metadatas, embedding_model=embedding_model)\n"
   ]
  },
  {
   "cell_type": "code",
   "execution_count": 7,
   "id": "b1f4cfc3",
   "metadata": {},
   "outputs": [],
   "source": [
    "# Step 4: Save vector store locally\n",
    "store_path = \"../faiss_store\"\n",
    "save_vectorstore(vectorstore, path=store_path)"
   ]
  },
  {
   "cell_type": "code",
   "execution_count": 8,
   "id": "8b56ce8b",
   "metadata": {},
   "outputs": [],
   "source": [
    "# Step 5: Load vector store and build QA chain\n",
    "vs = load_vectorstore(path=store_path, embedding_model=embedding_model)\n"
   ]
  },
  {
   "cell_type": "code",
   "execution_count": 9,
   "id": "a853dabc",
   "metadata": {},
   "outputs": [
    {
     "name": "stderr",
     "output_type": "stream",
     "text": [
      "Device set to use mps:0\n",
      "The following generation flags are not valid and may be ignored: ['temperature']. Set `TRANSFORMERS_VERBOSITY=info` for more details.\n",
      "/Users/yinglu/Desktop/projects/pdf-rag-qa/src/query_api.py:16: LangChainDeprecationWarning: The class `HuggingFacePipeline` was deprecated in LangChain 0.0.37 and will be removed in 1.0. An updated version of the class exists in the :class:`~langchain-huggingface package and should be used instead. To use it run `pip install -U :class:`~langchain-huggingface` and import as `from :class:`~langchain_huggingface import HuggingFacePipeline``.\n",
      "  llm = HuggingFacePipeline(pipeline=pipe)\n",
      "/var/folders/12/_f4h5yr16lq5p9l1tf6zpgq80000gn/T/ipykernel_92573/4229599140.py:7: LangChainDeprecationWarning: The method `Chain.__call__` was deprecated in langchain 0.1.0 and will be removed in 1.0. Use :meth:`~invoke` instead.\n",
      "  result = qa_chain(query)\n",
      "/Users/yinglu/Desktop/projects/.venv/lib/python3.9/site-packages/torch/nn/modules/module.py:1762: FutureWarning: `encoder_attention_mask` is deprecated and will be removed in version 4.55.0 for `BertSdpaSelfAttention.forward`.\n",
      "  return forward_call(*args, **kwargs)\n",
      "The following generation flags are not valid and may be ignored: ['temperature']. Set `TRANSFORMERS_VERBOSITY=info` for more details.\n"
     ]
    },
    {
     "name": "stdout",
     "output_type": "stream",
     "text": [
      "Answer:\n",
      " Ying Lu 1. Introduction of my background I finished my undergraduate degree in both statistics and computer science at the University of Minnesota in May 2021. I decided to continue studying computer science as a master student at the University of Minnesota. Now I'm a second year graduate student at the University of Minnesota.\n",
      "\n",
      "Sources:\n",
      " - {'producer': 'pdfTeX-1.40.20', 'creator': 'TeX', 'creationdate': '2023-01-04T22:34:51+08:00', 'moddate': '2023-01-04T22:34:51+08:00', 'trapped': '/False', 'ptex.fullbanner': 'This is pdfTeX, Version 3.14159265-2.6-1.40.20 (TeX Live 2019) kpathsea version 6.3.1', 'source': '../data/study_plan.pdf', 'total_pages': 1, 'page': 0, 'page_label': '1'}\n",
      " - {'producer': 'pdfTeX-1.40.20', 'creator': 'TeX', 'creationdate': '2023-01-04T22:34:51+08:00', 'moddate': '2023-01-04T22:34:51+08:00', 'trapped': '/False', 'ptex.fullbanner': 'This is pdfTeX, Version 3.14159265-2.6-1.40.20 (TeX Live 2019) kpathsea version 6.3.1', 'source': '../data/study_plan.pdf', 'total_pages': 1, 'page': 0, 'page_label': '1'}\n",
      " - {'producer': 'pdfTeX-1.40.20', 'creator': 'TeX', 'creationdate': '2023-01-04T22:34:51+08:00', 'moddate': '2023-01-04T22:34:51+08:00', 'trapped': '/False', 'ptex.fullbanner': 'This is pdfTeX, Version 3.14159265-2.6-1.40.20 (TeX Live 2019) kpathsea version 6.3.1', 'source': '../data/study_plan.pdf', 'total_pages': 1, 'page': 0, 'page_label': '1'}\n"
     ]
    }
   ],
   "source": [
    "qa_chain = build_qa_chain(vs)\n",
    "\n",
    "# Step 6: Ask a question and get answer\n",
    "query = \"What is this document about?\"  # replace with your own\n",
    "#print(qa_chain.prompt.format_prompt(question=query, context=\"...\").to_string())\n",
    "\n",
    "result = qa_chain(query)\n",
    "\n",
    "print(\"Answer:\\n\", result[\"result\"])\n",
    "print(\"\\nSources:\")\n",
    "for doc in result[\"source_documents\"]:\n",
    "    print(\" -\", doc.metadata)"
   ]
  }
 ],
 "metadata": {
  "kernelspec": {
   "display_name": ".venv",
   "language": "python",
   "name": "python3"
  },
  "language_info": {
   "codemirror_mode": {
    "name": "ipython",
    "version": 3
   },
   "file_extension": ".py",
   "mimetype": "text/x-python",
   "name": "python",
   "nbconvert_exporter": "python",
   "pygments_lexer": "ipython3",
   "version": "3.9.6"
  }
 },
 "nbformat": 4,
 "nbformat_minor": 5
}
