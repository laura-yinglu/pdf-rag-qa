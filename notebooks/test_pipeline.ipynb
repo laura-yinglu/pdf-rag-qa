{
 "cells": [
  {
   "cell_type": "code",
   "execution_count": null,
   "id": "9c676648",
   "metadata": {},
   "outputs": [],
   "source": [
    "import sys\n",
    "import os\n",
    "\n",
    "# Set project root as module path\n",
    "sys.path.append(os.path.abspath(\"..\"))"
   ]
  },
  {
   "cell_type": "code",
   "execution_count": null,
   "id": "c51dcc1d",
   "metadata": {},
   "outputs": [],
   "source": [
    "# load api keys from .env file \n",
    "from dotenv import load_dotenv\n",
    "load_dotenv()"
   ]
  },
  {
   "cell_type": "code",
   "execution_count": null,
   "id": "ca6afcb2",
   "metadata": {},
   "outputs": [],
   "source": [
    "# Setup: Import all modules\n",
    "from src.chunking import load_and_chunk\n",
    "\n",
    "from src.embedding import get_embedding_model\n",
    "from src.vector_store import build_vectorstore, save_vectorstore, load_vectorstore\n",
    "from src.query_api import build_qa_chain\n"
   ]
  },
  {
   "cell_type": "code",
   "execution_count": null,
   "id": "2a44ed9c",
   "metadata": {},
   "outputs": [],
   "source": [
    "# Step 1: Load and chunk PDF\n",
    "pdf_path = \"../data/study_plan.pdf\"  # change path if needed\n",
    "chunks = load_and_chunk(pdf_path)\n",
    "print(f\"Total chunks: {len(chunks)}\")\n",
    "print(chunks[0])\n"
   ]
  },
  {
   "cell_type": "code",
   "execution_count": null,
   "id": "0c60ae5c",
   "metadata": {},
   "outputs": [],
   "source": [
    "# Step 2: Build embedding model\n",
    "embedding_model = get_embedding_model()"
   ]
  },
  {
   "cell_type": "code",
   "execution_count": null,
   "id": "b384fe19",
   "metadata": {},
   "outputs": [],
   "source": [
    "# Step 3: Build vector store\n",
    "texts = [doc.page_content for doc in chunks]\n",
    "metadatas = [doc.metadata for doc in chunks]\n",
    "vectorstore = build_vectorstore(texts, metadatas, embedding_model=embedding_model)\n"
   ]
  },
  {
   "cell_type": "code",
   "execution_count": null,
   "id": "b1f4cfc3",
   "metadata": {},
   "outputs": [],
   "source": [
    "# Step 4: Save vector store locally\n",
    "store_path = \"../faiss_store\"\n",
    "save_vectorstore(vectorstore, path=store_path)"
   ]
  },
  {
   "cell_type": "code",
   "execution_count": null,
   "id": "8b56ce8b",
   "metadata": {},
   "outputs": [],
   "source": [
    "# Step 5: Load vector store and build QA chain\n",
    "vs = load_vectorstore(path=store_path, embedding_model=embedding_model)\n"
   ]
  },
  {
   "cell_type": "code",
   "execution_count": null,
   "id": "a853dabc",
   "metadata": {},
   "outputs": [],
   "source": [
    "qa_chain = build_qa_chain(vs)\n",
    "\n",
    "# Step 6: Ask a question and get answer\n",
    "query = \"What is this document about?\"  # replace with your own\n",
    "#print(qa_chain.prompt.format_prompt(question=query, context=\"...\").to_string())\n",
    "\n",
    "result = qa_chain(query)\n",
    "\n",
    "print(\"Answer:\\n\", result[\"result\"])\n",
    "print(\"\\nSources:\")\n",
    "for doc in result[\"source_documents\"]:\n",
    "    print(\" -\", doc.metadata)"
   ]
  }
 ],
 "metadata": {
  "kernelspec": {
   "display_name": ".venv",
   "language": "python",
   "name": "python3"
  },
  "language_info": {
   "codemirror_mode": {
    "name": "ipython",
    "version": 3
   },
   "file_extension": ".py",
   "mimetype": "text/x-python",
   "name": "python",
   "nbconvert_exporter": "python",
   "pygments_lexer": "ipython3",
   "version": "3.9.6"
  }
 },
 "nbformat": 4,
 "nbformat_minor": 5
}
